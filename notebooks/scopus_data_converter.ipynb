{
 "cells": [
  {
   "cell_type": "code",
   "execution_count": 2,
   "metadata": {},
   "outputs": [],
   "source": [
    "import json\n",
    "DATA_PATH = '../data/'\n"
   ]
  },
  {
   "cell_type": "code",
   "execution_count": 4,
   "metadata": {},
   "outputs": [],
   "source": [
    "fname = \"pretty_scopus_hazard_map_chile_0-25\"\n",
    "with open(f\"{DATA_PATH}/{fname}.json\", \"r\") as f:\n",
    "    data = json.load(f)"
   ]
  },
  {
   "cell_type": "code",
   "execution_count": 10,
   "metadata": {},
   "outputs": [
    {
     "name": "stdout",
     "output_type": "stream",
     "text": [
      "{'@_fa': 'true', 'link': [{'@_fa': 'true', '@ref': 'self', '@href': 'https://api.elsevier.com/content/abstract/scopus_id/85177228684'}, {'@_fa': 'true', '@ref': 'author-affiliation', '@href': 'https://api.elsevier.com/content/abstract/scopus_id/85177228684?field=author,affiliation'}, {'@_fa': 'true', '@ref': 'scopus', '@href': 'https://www.scopus.com/inward/record.uri?partnerID=HzOxMe3b&scp=85177228684&origin=inward'}, {'@_fa': 'true', '@ref': 'scopus-citedby', '@href': 'https://www.scopus.com/inward/citedby.uri?partnerID=HzOxMe3b&scp=85177228684&origin=inward'}], 'prism:url': 'https://api.elsevier.com/content/abstract/scopus_id/85177228684', 'dc:identifier': 'SCOPUS_ID:85177228684', 'eid': '2-s2.0-85177228684', 'dc:title': 'SIGeR-RV: A Web-Geographic Information System-Based System for Risk Management of Road Networks Exposed to Natural Hazards', 'dc:creator': 'Chamorro A.', 'prism:publicationName': 'Transportation Research Record', 'prism:issn': '03611981', 'prism:eIssn': '21694052', 'prism:volume': '2677', 'prism:issueIdentifier': '12', 'prism:pageRange': '754-769', 'prism:coverDate': '2023-12-01', 'prism:coverDisplayDate': 'December 2023', 'prism:doi': '10.1177/03611981231169532', 'citedby-count': '0', 'affiliation': [{'@_fa': 'true', 'affilname': 'Pontificia Universidad Católica de Chile', 'affiliation-city': 'Santiago', 'affiliation-country': 'Chile'}, {'@_fa': 'true', 'affilname': 'ANID/FONDAP/1522A0005', 'affiliation-city': 'Santiago', 'affiliation-country': 'Chile'}], 'prism:aggregationType': 'Journal', 'subtype': 'ar', 'subtypeDescription': 'Article', 'source-id': '27418', 'openaccess': '0', 'openaccessFlag': False}\n"
     ]
    }
   ],
   "source": [
    "for entry in data['search-results']['entry']:\n",
    "    print(entry)\n",
    "    break"
   ]
  },
  {
   "cell_type": "code",
   "execution_count": 60,
   "metadata": {},
   "outputs": [],
   "source": [
    "out = {\n",
    "    'types': {\n",
    "        'Article': {\n",
    "            'pluralLabel': 'Articles',\n",
    "            \"uri\": \"http://simile.mit.edu/2007/05/article-ns#Article\"\n",
    "        },\n",
    "        'Affiliation': {\n",
    "            'pluralLabel': 'Affiliations',\n",
    "            \"uri\": \"http://simile.mit.edu/2007/05/article-ns#Affiliation\"\n",
    "        }\n",
    "    },\n",
    "    'properties': {\n",
    "        'doi': {\n",
    "            'label': 'DOI',\n",
    "            \"uri\": \"http://simile.mit.edu/2007/05/article-ns#doi\"\n",
    "        },\n",
    "        'title': {\n",
    "            'label': 'Title',\n",
    "            \"uri\": \"http://simile.mit.edu/2007/05/article-ns#title\"\n",
    "        },\n",
    "        'pubName': {\n",
    "            'label': 'Publication Name',\n",
    "            \"uri\": \"http://simile.mit.edu/2007/05/article-ns#title\"\n",
    "        },\n",
    "        'pubDate': {\n",
    "            'label': 'Publication Date',\n",
    "            \"uri\": \"http://simile.mit.edu/2007/05/article-ns#pubDate\"\n",
    "        },\n",
    "        'pubType': {\n",
    "            'label': 'Publication Type',\n",
    "            \"uri\": \"http://simile.mit.edu/2007/05/article-ns#pubType\"\n",
    "        },\n",
    "        'mainAuthor': {\n",
    "            'label': 'Principal Author',\n",
    "            \"uri\": \"http://simile.mit.edu/2007/05/article-ns#mainAuthor\"\n",
    "        },\n",
    "        'year': {\n",
    "            'label': 'Year',\n",
    "            \"uri\": \"http://simile.mit.edu/2007/05/article-ns#year\"\n",
    "        },\n",
    "        'country': {\n",
    "            'label': 'Country',\n",
    "            \"uri\": \"http://simile.mit.edu/2007/05/article-ns#country\"\n",
    "        },\n",
    "        'city': {\n",
    "            'label': 'City',\n",
    "            \"uri\": \"http://simile.mit.edu/2007/05/article-ns#city\"\n",
    "        },\n",
    "        'link': {\n",
    "            'label': 'Link',\n",
    "            \"uri\": \"http://simile.mit.edu/2007/05/article-ns#link\"\n",
    "        },\n",
    "        'affiliation': {\n",
    "            'label': 'Affiliation',\n",
    "            \"uri\": \"http://simile.mit.edu/2007/05/article-ns#affiliation\",\n",
    "            'valueType': 'item'\n",
    "        },\n",
    "    }\n",
    "}\n",
    "\n",
    "props = {\n",
    "    'title': 'dc:title', \n",
    "    'label': 'dc:title', \n",
    "    'pubName': 'prism:publicationName', \n",
    "    'pubDate': 'prism:coverDate',\n",
    "    'doi': 'prism:doi',\n",
    "    'pubType': 'prism:aggregationType',\n",
    "    'mainAuthor': 'dc:creator'\n",
    "}\n",
    "out['items'] = []\n",
    "allaffs = {}\n",
    "for ri, entry in enumerate(data['search-results']['entry']):\n",
    "    out_entry = {i:entry.get(j, \"\") for i, j in props.items() if j in entry}\n",
    "    links = {link['@ref']: link['@href'] for link in entry['link']}\n",
    "    out_entry.update({'link': links.get('scopus', '')})\n",
    "    out_entry.update({'type': 'Article'})\n",
    "    if 'pubDate' in out_entry:\n",
    "        out_entry.update({'year': out_entry['pubDate'][:4]})\n",
    "    affs = []\n",
    "    for affiliation in entry.get('affiliation', []):\n",
    "        affs.append(affiliation['affilname'])\n",
    "        allaffs[affiliation['affilname']] = {\n",
    "            'label': affiliation['affilname'],\n",
    "            'type': 'Affiliation',\n",
    "            'country': affiliation['affiliation-country'],\n",
    "            'city': affiliation['affiliation-city']\n",
    "        }\n",
    "    out_entry.update({'affiliation': affs})\n",
    "    out_entry.update({'uri': f\"http://simile.mit.edu/2007/05/article-ns/Article/{ri}\"})\n",
    "    out['items'].append(out_entry)\n",
    "for ri, entry in enumerate(allaffs):\n",
    "    allaffs[entry].update({'uri': f\"http://simile.mit.edu/2007/05/article-ns/Affiliation/{ri}\"})\n",
    "out['items'].extend(list(allaffs.values()))\n",
    "\n",
    "with open(f\"../items.json\", \"w\") as f:\n",
    "    json.dump(out, f, indent=2)"
   ]
  },
  {
   "cell_type": "code",
   "execution_count": null,
   "metadata": {},
   "outputs": [],
   "source": []
  }
 ],
 "metadata": {
  "kernelspec": {
   "display_name": "base",
   "language": "python",
   "name": "python3"
  },
  "language_info": {
   "codemirror_mode": {
    "name": "ipython",
    "version": 3
   },
   "file_extension": ".py",
   "mimetype": "text/x-python",
   "name": "python",
   "nbconvert_exporter": "python",
   "pygments_lexer": "ipython3",
   "version": "3.9.16"
  }
 },
 "nbformat": 4,
 "nbformat_minor": 2
}
